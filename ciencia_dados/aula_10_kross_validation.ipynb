{
  "nbformat": 4,
  "nbformat_minor": 0,
  "metadata": {
    "colab": {
      "provenance": []
    },
    "kernelspec": {
      "name": "python3",
      "display_name": "Python 3"
    },
    "language_info": {
      "name": "python"
    }
  },
  "cells": [
    {
      "cell_type": "code",
      "execution_count": 1,
      "metadata": {
        "id": "pXHgFtmQB4Y0"
      },
      "outputs": [],
      "source": [
        "import pandas as pd\n",
        "from sklearn.model_selection import train_test_split, cross_val_score, StratifiedKFold, GridSearchCV\n",
        "from sklearn.linear_model import LogisticRegression\n",
        "from sklearn.metrics import precision_score, recall_score, roc_curve, auc, confusion_matrix, classification_report\n",
        "import matplotlib.pyplot as plt\n",
        "import numpy as np"
      ]
    },
    {
      "cell_type": "markdown",
      "source": [
        "## Obtendo os dados"
      ],
      "metadata": {
        "id": "gQyzqVjGCSe3"
      }
    },
    {
      "cell_type": "code",
      "source": [
        "url = r\"https://archive.ics.uci.edu/ml/machine-learning-databases/heart-disease/processed.cleveland.data\""
      ],
      "metadata": {
        "id": "TJ1eJG-yCJXr"
      },
      "execution_count": 2,
      "outputs": []
    },
    {
      "cell_type": "code",
      "source": [
        "column_names = [\n",
        "    \"age\", \"sex\", \"cp\", \"trestbps\", \"chol\", \"fbs\", \"restecg\",\n",
        "    \"thalach\", \"exang\", \"oldpeak\", \"slope\", \"ca\", \"thal\", \"target\"\n",
        "]"
      ],
      "metadata": {
        "id": "7t51_fSJCWPw"
      },
      "execution_count": 3,
      "outputs": []
    },
    {
      "cell_type": "code",
      "source": [
        "df = pd.read_csv(url, names=column_names)\n",
        "print(df.head())\n"
      ],
      "metadata": {
        "colab": {
          "base_uri": "https://localhost:8080/"
        },
        "id": "sbie7b3jCeMX",
        "outputId": "d47d3973-1eea-4b18-9bdf-a22d1058b2a3"
      },
      "execution_count": 4,
      "outputs": [
        {
          "output_type": "stream",
          "name": "stdout",
          "text": [
            "    age  sex   cp  trestbps   chol  fbs  restecg  thalach  exang  oldpeak  \\\n",
            "0  63.0  1.0  1.0     145.0  233.0  1.0      2.0    150.0    0.0      2.3   \n",
            "1  67.0  1.0  4.0     160.0  286.0  0.0      2.0    108.0    1.0      1.5   \n",
            "2  67.0  1.0  4.0     120.0  229.0  0.0      2.0    129.0    1.0      2.6   \n",
            "3  37.0  1.0  3.0     130.0  250.0  0.0      0.0    187.0    0.0      3.5   \n",
            "4  41.0  0.0  2.0     130.0  204.0  0.0      2.0    172.0    0.0      1.4   \n",
            "\n",
            "   slope   ca thal  target  \n",
            "0    3.0  0.0  6.0       0  \n",
            "1    2.0  3.0  3.0       2  \n",
            "2    2.0  2.0  7.0       1  \n",
            "3    3.0  0.0  3.0       0  \n",
            "4    1.0  0.0  3.0       0  \n"
          ]
        }
      ]
    },
    {
      "cell_type": "code",
      "source": [
        "for coluna in df.columns:\n",
        "    print(f\"Coluna: {coluna}\")\n",
        "    print(f\"Valores únicos: {df[coluna].unique()}\")"
      ],
      "metadata": {
        "colab": {
          "base_uri": "https://localhost:8080/"
        },
        "id": "nFurmx0iCk7e",
        "outputId": "70b3d857-4977-478a-dec4-26cccf316d29"
      },
      "execution_count": 5,
      "outputs": [
        {
          "output_type": "stream",
          "name": "stdout",
          "text": [
            "Coluna: age\n",
            "Valores únicos: [63. 67. 37. 41. 56. 62. 57. 53. 44. 52. 48. 54. 49. 64. 58. 60. 50. 66.\n",
            " 43. 40. 69. 59. 42. 55. 61. 65. 71. 51. 46. 45. 39. 68. 47. 34. 35. 29.\n",
            " 70. 77. 38. 74. 76.]\n",
            "Coluna: sex\n",
            "Valores únicos: [1. 0.]\n",
            "Coluna: cp\n",
            "Valores únicos: [1. 4. 3. 2.]\n",
            "Coluna: trestbps\n",
            "Valores únicos: [145. 160. 120. 130. 140. 172. 150. 110. 132. 117. 135. 112. 105. 124.\n",
            " 125. 142. 128. 170. 155. 104. 180. 138. 108. 134. 122. 115. 118. 100.\n",
            " 200.  94. 165. 102. 152. 101. 126. 174. 148. 178. 158. 192. 129. 144.\n",
            " 123. 136. 146. 106. 156. 154. 114. 164.]\n",
            "Coluna: chol\n",
            "Valores únicos: [233. 286. 229. 250. 204. 236. 268. 354. 254. 203. 192. 294. 256. 263.\n",
            " 199. 168. 239. 275. 266. 211. 283. 284. 224. 206. 219. 340. 226. 247.\n",
            " 167. 230. 335. 234. 177. 276. 353. 243. 225. 302. 212. 330. 175. 417.\n",
            " 197. 198. 290. 253. 172. 273. 213. 305. 216. 304. 188. 282. 185. 232.\n",
            " 326. 231. 269. 267. 248. 360. 258. 308. 245. 270. 208. 264. 321. 274.\n",
            " 325. 235. 257. 164. 141. 252. 255. 201. 222. 260. 182. 303. 265. 309.\n",
            " 307. 249. 186. 341. 183. 407. 217. 288. 220. 209. 227. 261. 174. 281.\n",
            " 221. 205. 240. 289. 318. 298. 564. 246. 322. 299. 300. 293. 277. 214.\n",
            " 207. 223. 160. 394. 184. 315. 409. 244. 195. 196. 126. 313. 259. 200.\n",
            " 262. 215. 228. 193. 271. 210. 327. 149. 295. 306. 178. 237. 218. 242.\n",
            " 319. 166. 180. 311. 278. 342. 169. 187. 157. 176. 241. 131.]\n",
            "Coluna: fbs\n",
            "Valores únicos: [1. 0.]\n",
            "Coluna: restecg\n",
            "Valores únicos: [2. 0. 1.]\n",
            "Coluna: thalach\n",
            "Valores únicos: [150. 108. 129. 187. 172. 178. 160. 163. 147. 155. 148. 153. 142. 173.\n",
            " 162. 174. 168. 139. 171. 144. 132. 158. 114. 151. 161. 179. 120. 112.\n",
            " 137. 157. 169. 165. 123. 128. 152. 140. 188. 109. 125. 131. 170. 113.\n",
            "  99. 177. 141. 180. 111. 143. 182. 156. 115. 149. 145. 146. 175. 186.\n",
            " 185. 159. 130. 190. 136.  97. 127. 154. 133. 126. 202. 103. 166. 164.\n",
            " 184. 124. 122.  96. 138.  88. 105. 194. 195. 106. 167.  95. 192. 117.\n",
            " 121. 116.  71. 118. 181. 134.  90.]\n",
            "Coluna: exang\n",
            "Valores únicos: [0. 1.]\n",
            "Coluna: oldpeak\n",
            "Valores únicos: [2.3 1.5 2.6 3.5 1.4 0.8 3.6 0.6 3.1 0.4 1.3 0.  0.5 1.6 1.  1.2 0.2 1.8\n",
            " 3.2 2.4 2.  2.5 2.2 2.8 3.  3.4 6.2 4.  5.6 2.9 0.1 2.1 1.9 4.2 0.9 1.1\n",
            " 3.8 0.7 0.3 4.4]\n",
            "Coluna: slope\n",
            "Valores únicos: [3. 2. 1.]\n",
            "Coluna: ca\n",
            "Valores únicos: ['0.0' '3.0' '2.0' '1.0' '?']\n",
            "Coluna: thal\n",
            "Valores únicos: ['6.0' '3.0' '7.0' '?']\n",
            "Coluna: target\n",
            "Valores únicos: [0 2 1 3 4]\n"
          ]
        }
      ]
    },
    {
      "cell_type": "code",
      "source": [
        "print(df[\"ca\"].value_counts())\n",
        "print(df[\"thal\"].value_counts())\n",
        "print(df.shape)"
      ],
      "metadata": {
        "colab": {
          "base_uri": "https://localhost:8080/"
        },
        "id": "SrBr613lC2P9",
        "outputId": "cd22cb1b-be22-4eb7-aa9d-b292b38ebf1d"
      },
      "execution_count": 6,
      "outputs": [
        {
          "output_type": "stream",
          "name": "stdout",
          "text": [
            "ca\n",
            "0.0    176\n",
            "1.0     65\n",
            "2.0     38\n",
            "3.0     20\n",
            "?        4\n",
            "Name: count, dtype: int64\n",
            "thal\n",
            "3.0    166\n",
            "7.0    117\n",
            "6.0     18\n",
            "?        2\n",
            "Name: count, dtype: int64\n",
            "(303, 14)\n"
          ]
        }
      ]
    },
    {
      "cell_type": "code",
      "source": [
        "df = df.replace('?', np.nan)\n",
        "df = df.dropna()"
      ],
      "metadata": {
        "id": "NM7KDpM1DDab"
      },
      "execution_count": 7,
      "outputs": []
    },
    {
      "cell_type": "code",
      "source": [
        "df['ca'] = pd.to_numeric(df['ca'])\n",
        "df['thal'] = pd.to_numeric(df['thal'])\n",
        "# A coluna 'target' indica a presença de doença cardíaca (0 = não, >0 = sim).\n",
        "# Vamos binarizar para 0 (não) e 1 (sim).\n",
        "df['target'] = df['target'].apply(lambda x: 1 if x > 0 else 0)"
      ],
      "metadata": {
        "id": "_m5AAQ8qDNia"
      },
      "execution_count": 8,
      "outputs": []
    },
    {
      "cell_type": "code",
      "source": [
        "X = df.drop('target', axis=1)\n",
        "y = df['target']\n"
      ],
      "metadata": {
        "id": "2QhBQc-LDVY5"
      },
      "execution_count": 9,
      "outputs": []
    },
    {
      "cell_type": "code",
      "source": [
        "# stratify=y garante que a proporção das classes em y seja a mesma em treino e teste.\n",
        "X_train, X_test, y_train, y_test = train_test_split(X, y, test_size=0.3, random_state=42, stratify=y)\n",
        "print(f\"Proporção de classes no treino:\\n{y_train.value_counts(normalize=True)}\")\n",
        "print(f\"Proporção de classes no teste:\\n{y_test.value_counts(normalize=True)}\")"
      ],
      "metadata": {
        "colab": {
          "base_uri": "https://localhost:8080/"
        },
        "id": "nWApYEGIDbSw",
        "outputId": "73ef3333-b6d8-4865-e252-705756902fab"
      },
      "execution_count": 10,
      "outputs": [
        {
          "output_type": "stream",
          "name": "stdout",
          "text": [
            "Proporção de classes no treino:\n",
            "target\n",
            "0    0.541063\n",
            "1    0.458937\n",
            "Name: proportion, dtype: float64\n",
            "Proporção de classes no teste:\n",
            "target\n",
            "0    0.533333\n",
            "1    0.466667\n",
            "Name: proportion, dtype: float64\n"
          ]
        }
      ]
    },
    {
      "cell_type": "code",
      "source": [
        "model = LogisticRegression(solver='liblinear', random_state=42) # 'liblinear' é bom para datasets menores\n",
        "model.fit(X_train, y_train)\n",
        "model.score(X_train, y_train)\n",
        "\n",
        "y_pred = model.predict(X_test)\n",
        "\n",
        "# Ajuda a visualizar True Positives (TP), True Negatives (TN), False Positives (FP), False Negatives (FN)\n",
        "conf_mat = confusion_matrix(y_test, y_pred)\n",
        "print(conf_mat)\n",
        "print(f\"\"\"\n",
        "TN|FP\n",
        "FN|TP\n",
        "\"\"\")"
      ],
      "metadata": {
        "colab": {
          "base_uri": "https://localhost:8080/"
        },
        "id": "G5unRxlwDkAQ",
        "outputId": "d05b3b35-824a-4411-e841-949b772b36bf"
      },
      "execution_count": 11,
      "outputs": [
        {
          "output_type": "stream",
          "name": "stdout",
          "text": [
            "[[45  3]\n",
            " [ 7 35]]\n",
            "\n",
            "TN|FP\n",
            "FN|TP\n",
            "\n"
          ]
        }
      ]
    },
    {
      "cell_type": "code",
      "source": [
        "# Precision: Dos que o modelo previu como positivos, quantos são realmente positivos?\n",
        "# TP / (TP + FP)\n",
        "precision = precision_score(y_test, y_pred)\n",
        "print(f\"\\nPrecision: {precision:.4f}\")\n",
        "print(\"Interpretação: Dos pacientes que nosso modelo previu terem doença cardíaca, \"\n",
        "      f\"{precision*100:.2f}% realmente têm a doença.\")"
      ],
      "metadata": {
        "colab": {
          "base_uri": "https://localhost:8080/"
        },
        "id": "jJ79EkUNDwoA",
        "outputId": "614fc394-2de7-4870-d404-49ca5d0881da"
      },
      "execution_count": 12,
      "outputs": [
        {
          "output_type": "stream",
          "name": "stdout",
          "text": [
            "\n",
            "Precision: 0.9211\n",
            "Interpretação: Dos pacientes que nosso modelo previu terem doença cardíaca, 92.11% realmente têm a doença.\n"
          ]
        }
      ]
    },
    {
      "cell_type": "code",
      "source": [
        "# Recall (Sensibilidade): Dos que são realmente positivos, quantos o modelo conseguiu identificar?\n",
        "# TP / (TP + FN)\n",
        "recall = recall_score(y_test, y_pred)\n",
        "print(f\"Recall: {recall:.4f}\")\n",
        "print(\"Interpretação: De todos os pacientes que REALMENTE têm doença cardíaca, \"\n",
        "      f\"nosso modelo identificou corretamente {recall*100:.2f}% deles.\")"
      ],
      "metadata": {
        "colab": {
          "base_uri": "https://localhost:8080/"
        },
        "id": "pykaelXtEBKF",
        "outputId": "b99d8774-7005-47b3-a556-937a9fcf8860"
      },
      "execution_count": 13,
      "outputs": [
        {
          "output_type": "stream",
          "name": "stdout",
          "text": [
            "Recall: 0.8333\n",
            "Interpretação: De todos os pacientes que REALMENTE têm doença cardíaca, nosso modelo identificou corretamente 83.33% deles.\n"
          ]
        }
      ]
    },
    {
      "cell_type": "code",
      "source": [
        "print(classification_report(y_test, y_pred, target_names=['Sem Doença', 'Com Doença']))\n",
        "#Compare Precision e Recall. Um valor alto em um pode significar um valor baixo no outro,\n",
        "#dependendo do threshold e do objetivo do problema. Para detecção de doenças, Recall costuma ser muito importante."
      ],
      "metadata": {
        "colab": {
          "base_uri": "https://localhost:8080/"
        },
        "id": "n1m-q6jIEJtU",
        "outputId": "84186e98-74a5-404c-decf-ea09853e35ef"
      },
      "execution_count": 14,
      "outputs": [
        {
          "output_type": "stream",
          "name": "stdout",
          "text": [
            "              precision    recall  f1-score   support\n",
            "\n",
            "  Sem Doença       0.87      0.94      0.90        48\n",
            "  Com Doença       0.92      0.83      0.88        42\n",
            "\n",
            "    accuracy                           0.89        90\n",
            "   macro avg       0.89      0.89      0.89        90\n",
            "weighted avg       0.89      0.89      0.89        90\n",
            "\n"
          ]
        }
      ]
    },
    {
      "cell_type": "code",
      "source": [
        "y_pred_proba = model.predict_proba(X_test)[:, 1]\n",
        "\n",
        "fpr, tpr, thresholds = roc_curve(y_test, y_pred_proba)\n",
        "roc_auc = auc(fpr, tpr)\n",
        "\n",
        "print(f\"AUC (Area Under the Curve): {roc_auc:.4f}\")\n",
        "print(\"Interpretação: Um AUC de 1.0 significa um modelo perfeito, 0.5 significa aleatório. \"\n",
        "      f\"Nosso modelo tem uma boa capacidade de discriminação com AUC de {roc_auc:.4f}.\")"
      ],
      "metadata": {
        "colab": {
          "base_uri": "https://localhost:8080/"
        },
        "id": "rmuuqR0zEVCy",
        "outputId": "9ae1312f-38f4-4a16-cbb1-49950427ac10"
      },
      "execution_count": 15,
      "outputs": [
        {
          "output_type": "stream",
          "name": "stdout",
          "text": [
            "AUC (Area Under the Curve): 0.9459\n",
            "Interpretação: Um AUC de 1.0 significa um modelo perfeito, 0.5 significa aleatório. Nosso modelo tem uma boa capacidade de discriminação com AUC de 0.9459.\n"
          ]
        }
      ]
    },
    {
      "cell_type": "code",
      "source": [
        "# Plotando a Curva ROC\n",
        "plt.figure(figsize=(8, 6))\n",
        "plt.plot(fpr, tpr, color='darkorange', lw=2, label=f'Curva ROC (AUC = {roc_auc:.2f})')\n",
        "plt.plot([0, 1], [0, 1], color='navy', lw=2, linestyle='--', label='Classificador Aleatório')\n",
        "plt.xlim([0.0, 1.0])\n",
        "plt.ylim([0.0, 1.01])\n",
        "plt.xlabel('Taxa de Falsos Positivos (FPR)')\n",
        "plt.ylabel('Taxa de Verdadeiros Positivos (TPR) - Recall')\n",
        "plt.title('Curva ROC')\n",
        "plt.legend(loc=\"lower right\")\n",
        "plt.grid(True)\n",
        "plt.show()"
      ],
      "metadata": {
        "colab": {
          "base_uri": "https://localhost:8080/",
          "height": 564
        },
        "id": "FmLdjpv9ErvZ",
        "outputId": "b74923fb-de83-4810-e4fa-4f6114de6902"
      },
      "execution_count": 16,
      "outputs": [
        {
          "output_type": "display_data",
          "data": {
            "text/plain": [
              "<Figure size 800x600 with 1 Axes>"
            ],
            "image/png": "[encoded data removed]"
          },
          "metadata": {}
        }
      ]
    },
    {
      "cell_type": "code",
      "source": [
        "# Número de folds (partições)\n",
        "n_splits = 5\n",
        "# Criando um objeto StratifiedKFold\n",
        "skf = StratifiedKFold(n_splits=n_splits, shuffle=True, random_state=42)\n",
        "\n",
        "# Avaliando a acurácia do modelo em cada fold\n",
        "# cross_val_score retorna a pontuação (score) para cada fold.\n",
        "# Por padrão, para modelos de classificação, o score é a acurácia.\n",
        "cv_scores_accuracy = cross_val_score(model, X, y, cv=skf, scoring='accuracy')\n",
        "print(f\"\\nAcurácia em cada fold (Validação Cruzada): {cv_scores_accuracy}\")"
      ],
      "metadata": {
        "colab": {
          "base_uri": "https://localhost:8080/"
        },
        "id": "4oU91IjUE1Hx",
        "outputId": "0d3a5a18-e3c6-4c1a-d49f-99823573143d"
      },
      "execution_count": 17,
      "outputs": [
        {
          "output_type": "stream",
          "name": "stdout",
          "text": [
            "\n",
            "Acurácia em cada fold (Validação Cruzada): [0.88333333 0.85       0.81355932 0.83050847 0.83050847]\n"
          ]
        }
      ]
    },
    {
      "cell_type": "code",
      "source": [
        "# Podemos avaliar outras métricas também, como Precision, Recall ou AUC.\n",
        "cv_scores_precision = cross_val_score(model, X, y, cv=skf, scoring='precision')\n",
        "cv_scores_recall = cross_val_score(model, X, y, cv=skf, scoring='recall')\n",
        "cv_scores_roc_auc = cross_val_score(model, X, y, cv=skf, scoring='roc_auc')\n",
        "print(f\"\\nMédia da Precision (Validação Cruzada): {cv_scores_precision.mean():.4f}\")\n",
        "print(f\"Média do Recall (Validação Cruzada): {cv_scores_recall.mean():.4f}\")\n",
        "print(f\"Média do AUC (Validação Cruzada): {cv_scores_roc_auc.mean():.4f}\")"
      ],
      "metadata": {
        "colab": {
          "base_uri": "https://localhost:8080/"
        },
        "id": "UXLtHJ4TFASm",
        "outputId": "2f1d832b-987a-44a1-89b5-da7a68b2c6dd"
      },
      "execution_count": 18,
      "outputs": [
        {
          "output_type": "stream",
          "name": "stdout",
          "text": [
            "\n",
            "Média da Precision (Validação Cruzada): 0.8584\n",
            "Média do Recall (Validação Cruzada): 0.7873\n",
            "Média do AUC (Validação Cruzada): 0.8907\n"
          ]
        }
      ]
    },
    {
      "cell_type": "code",
      "source": [
        "model_grid = LogisticRegression(random_state=42, solver='liblinear')\n",
        "\n",
        "param_grid = {\n",
        "    'C': [0.001, 0.01, 0.1, 1, 10, 100], # Diferentes forças de regularização\n",
        "    'penalty': ['l1', 'l2'] # Tipos de regularização\n",
        "}\n",
        "\n",
        "print(f\"\\nHiperparâmetros que serão testados no grid: {param_grid}\")\n",
        "print(\"O GridSearchCV testará TODAS as combinações possíveis dentro deste grid.\")\n",
        "\n",
        "# Inicializando GridSearchCV\n",
        "grid_search = GridSearchCV(estimator=model_grid,\n",
        "                           param_grid=param_grid,\n",
        "                           cv=skf, # Reutilizamos o StratifiedKFold definido anteriormente\n",
        "                           scoring='roc_auc', # Otimizar pela Área Sob a Curva ROC\n",
        "                           verbose=1, # Para ver o progresso da busca\n",
        "                           n_jobs=-1) # Usa todos os núcleos da CPU para acelerar\n",
        "print(f\"Média da Acurácia (Validação Cruzada): {cv_scores_accuracy.mean():.4f}\")\n",
        "print(f\"Desvio Padrão da Acurácia: {cv_scores_accuracy.std():.4f}\")\n",
        "\n",
        "grid_search.fit(X, y)\n",
        "\n",
        "print(grid_search.best_params_)\n",
        "\n",
        "print(\"**Melhor Pontuação (AUC) com esses Hiperparâmetros (Média da Validação Cruzada):**\")\n",
        "print(f\"{grid_search.best_score_:.4f}\")\n",
        "best_model = grid_search.best_estimator_\n",
        "print(\"\\n**O Melhor Modelo Otimizado (best_estimator_):**\")\n",
        "print(best_model)"
      ],
      "metadata": {
        "colab": {
          "base_uri": "https://localhost:8080/"
        },
        "id": "avHtMS6YFInF",
        "outputId": "0ddd88e4-cd4f-463b-bf42-1bb35e11ab11"
      },
      "execution_count": 20,
      "outputs": [
        {
          "output_type": "stream",
          "name": "stdout",
          "text": [
            "\n",
            "Hiperparâmetros que serão testados no grid: {'C': [0.001, 0.01, 0.1, 1, 10, 100], 'penalty': ['l1', 'l2']}\n",
            "O GridSearchCV testará TODAS as combinações possíveis dentro deste grid.\n",
            "Média da Acurácia (Validação Cruzada): 0.8416\n",
            "Desvio Padrão da Acurácia: 0.0239\n",
            "Fitting 5 folds for each of 12 candidates, totalling 60 fits\n",
            "{'C': 10, 'penalty': 'l2'}\n",
            "**Melhor Pontuação (AUC) com esses Hiperparâmetros (Média da Validação Cruzada):**\n",
            "0.8930\n",
            "\n",
            "**O Melhor Modelo Otimizado (best_estimator_):**\n",
            "LogisticRegression(C=10, random_state=42, solver='liblinear')\n"
          ]
        }
      ]
    },
    {
      "cell_type": "code",
      "source": [
        "# Faremos previsões com o melhor modelo encontrado pelo GridSearchCV no conjunto de TESTE original\n",
        "# para uma avaliação final do seu desempenho.\n",
        "y_pred_optimized = best_model.predict(X_test)\n",
        "y_pred_proba_optimized = best_model.predict_proba(X_test)[:, 1]\n",
        "\n",
        "# Métricas para o modelo otimizado\n",
        "precision_opt = precision_score(y_test, y_pred_optimized)\n",
        "recall_opt = recall_score(y_test, y_pred_optimized)\n",
        "fpr_opt, tpr_opt, _ = roc_curve(y_test, y_pred_proba_optimized)\n",
        "roc_auc_opt = auc(fpr_opt, tpr_opt)\n",
        "\n",
        "print(f\"Precision do Modelo Otimizado: {precision_opt:.4f}\")\n",
        "print(f\"Recall do Modelo Otimizado: {recall_opt:.4f}\")\n",
        "print(f\"AUC do Modelo Otimizado: {roc_auc_opt:.4f}\")"
      ],
      "metadata": {
        "colab": {
          "base_uri": "https://localhost:8080/"
        },
        "id": "2PG8Ti2_FTsE",
        "outputId": "2b317cda-addf-408c-b552-da88ec835058"
      },
      "execution_count": 21,
      "outputs": [
        {
          "output_type": "stream",
          "name": "stdout",
          "text": [
            "Precision do Modelo Otimizado: 0.9211\n",
            "Recall do Modelo Otimizado: 0.8333\n",
            "AUC do Modelo Otimizado: 0.9568\n"
          ]
        }
      ]
    },
    {
      "cell_type": "code",
      "source": [],
      "metadata": {
        "id": "CsRJpkJqF8en"
      },
      "execution_count": null,
      "outputs": []
    }
  ]
}